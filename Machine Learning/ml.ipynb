{
 "cells": [
  {
   "cell_type": "code",
   "execution_count": 141,
   "id": "852402c5-e27b-480d-ba95-6a69bf31a46b",
   "metadata": {},
   "outputs": [],
   "source": [
    "from sklearn.model_selection import train_test_split\n",
    "from sklearn.linear_model import LogisticRegression\n",
    "from sklearn.neighbors import KNeighborsClassifier\n",
    "from sklearn.svm import SVC\n",
    "from sklearn.tree import DecisionTreeClassifier\n",
    "from sklearn.ensemble import RandomForestClassifier\n",
    "from xgboost import XGBClassifier\n",
    "\n",
    "from sklearn.preprocessing import LabelEncoder, StandardScaler\n",
    "\n",
    "import pandas as pd\n",
    "import joblib"
   ]
  },
  {
   "cell_type": "code",
   "execution_count": 145,
   "id": "43cb4fc7-58eb-4e27-ac56-1543d07f4788",
   "metadata": {},
   "outputs": [
    {
     "data": {
      "text/html": [
       "<div>\n",
       "<style scoped>\n",
       "    .dataframe tbody tr th:only-of-type {\n",
       "        vertical-align: middle;\n",
       "    }\n",
       "\n",
       "    .dataframe tbody tr th {\n",
       "        vertical-align: top;\n",
       "    }\n",
       "\n",
       "    .dataframe thead th {\n",
       "        text-align: right;\n",
       "    }\n",
       "</style>\n",
       "<table border=\"1\" class=\"dataframe\">\n",
       "  <thead>\n",
       "    <tr style=\"text-align: right;\">\n",
       "      <th></th>\n",
       "      <th>timestamp</th>\n",
       "      <th>packet_size</th>\n",
       "      <th>ttl</th>\n",
       "      <th>proto</th>\n",
       "      <th>csum</th>\n",
       "      <th>src_ip</th>\n",
       "      <th>dst_ip</th>\n",
       "      <th>src_port</th>\n",
       "      <th>dst_port</th>\n",
       "      <th>tcp_flag</th>\n",
       "      <th>type_icmp</th>\n",
       "      <th>code_icmp</th>\n",
       "      <th>csum_icmp</th>\n",
       "      <th>port_no</th>\n",
       "      <th>rx_bytes_ave</th>\n",
       "      <th>tx_bytes_ave</th>\n",
       "      <th>request_type</th>\n",
       "      <th>id</th>\n",
       "      <th>label</th>\n",
       "    </tr>\n",
       "  </thead>\n",
       "  <tbody>\n",
       "    <tr>\n",
       "      <th>0</th>\n",
       "      <td>0.019356</td>\n",
       "      <td>103</td>\n",
       "      <td>128</td>\n",
       "      <td>6</td>\n",
       "      <td>0</td>\n",
       "      <td>192.168.31.185</td>\n",
       "      <td>3.81.183.197</td>\n",
       "      <td>62157</td>\n",
       "      <td>8095</td>\n",
       "      <td>24</td>\n",
       "      <td>0</td>\n",
       "      <td>0</td>\n",
       "      <td>0</td>\n",
       "      <td>0</td>\n",
       "      <td>103.000000</td>\n",
       "      <td>103.000000</td>\n",
       "      <td>tcp</td>\n",
       "      <td>3.81.183.197192.168.31.185809562157</td>\n",
       "      <td>normal</td>\n",
       "    </tr>\n",
       "    <tr>\n",
       "      <th>1</th>\n",
       "      <td>0.019359</td>\n",
       "      <td>60</td>\n",
       "      <td>241</td>\n",
       "      <td>6</td>\n",
       "      <td>44430</td>\n",
       "      <td>3.81.183.197</td>\n",
       "      <td>192.168.31.185</td>\n",
       "      <td>8095</td>\n",
       "      <td>62157</td>\n",
       "      <td>16</td>\n",
       "      <td>0</td>\n",
       "      <td>0</td>\n",
       "      <td>0</td>\n",
       "      <td>0</td>\n",
       "      <td>81.500000</td>\n",
       "      <td>81.500000</td>\n",
       "      <td>tcp</td>\n",
       "      <td>192.168.31.1853.81.183.197621578095</td>\n",
       "      <td>normal</td>\n",
       "    </tr>\n",
       "    <tr>\n",
       "      <th>2</th>\n",
       "      <td>0.019360</td>\n",
       "      <td>103</td>\n",
       "      <td>128</td>\n",
       "      <td>6</td>\n",
       "      <td>0</td>\n",
       "      <td>192.168.31.185</td>\n",
       "      <td>3.81.183.197</td>\n",
       "      <td>62157</td>\n",
       "      <td>8095</td>\n",
       "      <td>24</td>\n",
       "      <td>0</td>\n",
       "      <td>0</td>\n",
       "      <td>0</td>\n",
       "      <td>0</td>\n",
       "      <td>88.666667</td>\n",
       "      <td>88.666667</td>\n",
       "      <td>tcp</td>\n",
       "      <td>3.81.183.197192.168.31.185809562157</td>\n",
       "      <td>normal</td>\n",
       "    </tr>\n",
       "    <tr>\n",
       "      <th>3</th>\n",
       "      <td>0.019361</td>\n",
       "      <td>60</td>\n",
       "      <td>241</td>\n",
       "      <td>6</td>\n",
       "      <td>44429</td>\n",
       "      <td>3.81.183.197</td>\n",
       "      <td>192.168.31.185</td>\n",
       "      <td>8095</td>\n",
       "      <td>62157</td>\n",
       "      <td>16</td>\n",
       "      <td>0</td>\n",
       "      <td>0</td>\n",
       "      <td>0</td>\n",
       "      <td>0</td>\n",
       "      <td>81.500000</td>\n",
       "      <td>81.500000</td>\n",
       "      <td>tcp</td>\n",
       "      <td>192.168.31.1853.81.183.197621578095</td>\n",
       "      <td>normal</td>\n",
       "    </tr>\n",
       "    <tr>\n",
       "      <th>4</th>\n",
       "      <td>0.019361</td>\n",
       "      <td>60</td>\n",
       "      <td>241</td>\n",
       "      <td>6</td>\n",
       "      <td>44429</td>\n",
       "      <td>3.81.183.197</td>\n",
       "      <td>192.168.31.185</td>\n",
       "      <td>8095</td>\n",
       "      <td>62157</td>\n",
       "      <td>16</td>\n",
       "      <td>0</td>\n",
       "      <td>0</td>\n",
       "      <td>0</td>\n",
       "      <td>0</td>\n",
       "      <td>81.500000</td>\n",
       "      <td>81.500000</td>\n",
       "      <td>tcp</td>\n",
       "      <td>192.168.31.1853.81.183.197621578095</td>\n",
       "      <td>malicious</td>\n",
       "    </tr>\n",
       "  </tbody>\n",
       "</table>\n",
       "</div>"
      ],
      "text/plain": [
       "   timestamp  packet_size  ttl  proto   csum          src_ip          dst_ip  \\\n",
       "0   0.019356          103  128      6      0  192.168.31.185    3.81.183.197   \n",
       "1   0.019359           60  241      6  44430    3.81.183.197  192.168.31.185   \n",
       "2   0.019360          103  128      6      0  192.168.31.185    3.81.183.197   \n",
       "3   0.019361           60  241      6  44429    3.81.183.197  192.168.31.185   \n",
       "4   0.019361           60  241      6  44429    3.81.183.197  192.168.31.185   \n",
       "\n",
       "   src_port  dst_port  tcp_flag  type_icmp  code_icmp  csum_icmp  port_no  \\\n",
       "0     62157      8095        24          0          0          0        0   \n",
       "1      8095     62157        16          0          0          0        0   \n",
       "2     62157      8095        24          0          0          0        0   \n",
       "3      8095     62157        16          0          0          0        0   \n",
       "4      8095     62157        16          0          0          0        0   \n",
       "\n",
       "   rx_bytes_ave  tx_bytes_ave request_type  \\\n",
       "0    103.000000    103.000000          tcp   \n",
       "1     81.500000     81.500000          tcp   \n",
       "2     88.666667     88.666667          tcp   \n",
       "3     81.500000     81.500000          tcp   \n",
       "4     81.500000     81.500000          tcp   \n",
       "\n",
       "                                    id      label  \n",
       "0  3.81.183.197192.168.31.185809562157     normal  \n",
       "1  192.168.31.1853.81.183.197621578095     normal  \n",
       "2  3.81.183.197192.168.31.185809562157     normal  \n",
       "3  192.168.31.1853.81.183.197621578095     normal  \n",
       "4  192.168.31.1853.81.183.197621578095  malicious  "
      ]
     },
     "execution_count": 145,
     "metadata": {},
     "output_type": "execute_result"
    }
   ],
   "source": [
    "# Load the dataset to examine its structure and content\n",
    "file_path = 'network_datum2.csv'\n",
    "data = pd.read_csv(file_path)\n",
    "# Display the first few rows of the dataset and its summary information\n",
    "data.head()"
   ]
  },
  {
   "cell_type": "markdown",
   "id": "9296fc37-8b93-48b1-a758-7d4840cef588",
   "metadata": {},
   "source": [
    "## KNeighborsClassifier"
   ]
  },
  {
   "cell_type": "code",
   "execution_count": 146,
   "id": "a778d39e-eb60-4fda-845d-6db74a464761",
   "metadata": {},
   "outputs": [],
   "source": [
    "# Load the dataset\n",
    "data = pd.read_csv('network_datum2.csv')\n",
    "\n",
    "# Convert IP addresses to numerical format by removing dots and converting to integers\n",
    "data['src_ip'] = data['src_ip'].apply(lambda x: int(x.replace('.', '')))\n",
    "data['dst_ip'] = data['dst_ip'].apply(lambda x: int(x.replace('.', '')))\n",
    "data['id'] = data['id'].apply(lambda x: int(x.replace('.', '')))\n",
    "\n",
    "# Encoding request types with integers\n",
    "def request_encoder(x):\n",
    "    if x == 'tcp':\n",
    "        return 1\n",
    "    elif x == 'udp':\n",
    "        return 2\n",
    "    elif x == 'icmp':\n",
    "        return 3\n",
    "    elif x == 'http':\n",
    "        return 4\n",
    "    else:\n",
    "        return 0\n",
    "        \n",
    "data['request_type'] = data['request_type'].apply(request_encoder)\n",
    "\n",
    "# Convert categorical labels to numbers\n",
    "label_encoder = LabelEncoder()\n",
    "data['label'] = label_encoder.fit_transform(data['label'])\n",
    "\n",
    "# Split the data into features and target\n",
    "X = data.drop(['label', 'timestamp'], axis=1)\n",
    "y = data['label']\n",
    "\n",
    "# Split the data into training and testing sets\n",
    "X_train, X_test, y_train, y_test = train_test_split(X, y, test_size=0.2, random_state=42)\n",
    "\n",
    "# Initialize K-Nearest Neighbors classifier with a suitable number of neighbors\n",
    "knn_classifier = KNeighborsClassifier(n_neighbors=5)\n",
    "\n",
    "# Train the classifier\n",
    "model = knn_classifier.fit(X_train, y_train)\n",
    "\n",
    "# Predict on the test set\n",
    "y_pred = model.predict(X_test)\n",
    "\n",
    "# Evaluate the classifier\n",
    "accuracy = accuracy_score(y_test, y_pred)\n",
    "classification_rep = classification_report(y_test, y_pred)"
   ]
  },
  {
   "cell_type": "code",
   "execution_count": 147,
   "id": "6eadfd5d-02be-4981-a65f-b409aa54b941",
   "metadata": {},
   "outputs": [
    {
     "name": "stdout",
     "output_type": "stream",
     "text": [
      "success accuracy = 99.29 %\n",
      "fail accuracy = 0.71 %\n"
     ]
    }
   ],
   "source": [
    "print(\"success accuracy = {0:.2f} %\".format(accuracy*100))\n",
    "fail = 1.0 - accuracy\n",
    "print(\"fail accuracy = {0:.2f} %\".format(fail*100))"
   ]
  },
  {
   "cell_type": "markdown",
   "id": "61e225b5-c512-4609-9c0c-e9179934af39",
   "metadata": {},
   "source": [
    "## SVC"
   ]
  },
  {
   "cell_type": "code",
   "execution_count": 148,
   "id": "7baf0e2b-0f55-4bdf-a302-06540d3f2ef2",
   "metadata": {},
   "outputs": [],
   "source": [
    "# Load the dataset\n",
    "data = pd.read_csv('network_datum2.csv')\n",
    "\n",
    "# Convert IP addresses to numerical format by replacing dots and converting to integers\n",
    "data['src_ip'] = data['src_ip'].apply(lambda x: int(x.replace('.', '')))\n",
    "data['dst_ip'] = data['dst_ip'].apply(lambda x: int(x.replace('.', '')))\n",
    "data['id'] = data['id'].apply(lambda x: int(x.replace('.', '')))\n",
    "\n",
    "# Encoding request types with integers\n",
    "def request_encoder(x):\n",
    "    if x == 'tcp':\n",
    "        return 1\n",
    "    elif x == 'udp':\n",
    "        return 2\n",
    "    elif x == 'icmp':\n",
    "        return 3\n",
    "    elif x == 'http':\n",
    "        return 4\n",
    "    else:\n",
    "        return 0\n",
    "        \n",
    "data['request_type'] = data['request_type'].apply(request_encoder)\n",
    "\n",
    "# Convert categorical labels to numbers\n",
    "label_encoder = LabelEncoder()\n",
    "data['label'] = label_encoder.fit_transform(data['label'])\n",
    "\n",
    "# Split the data into features and target\n",
    "X = data.drop(['label', 'timestamp'], axis=1)\n",
    "y = data['label']\n",
    "\n",
    "# Split the data into training and testing sets\n",
    "X_train, X_test, y_train, y_test = train_test_split(X, y, test_size=0.2, random_state=42)\n",
    "\n",
    "# Using Support Vector Machine classifier\n",
    "svc_classifier = SVC()\n",
    "\n",
    "# Training the classifier\n",
    "model = svc_classifier.fit(X_train, y_train)\n",
    "\n",
    "# Predicting the test set results\n",
    "y_pred = model.predict(X_test)"
   ]
  },
  {
   "cell_type": "code",
   "execution_count": 149,
   "id": "d240000a-2cc1-4158-9a8c-c880e6d7716f",
   "metadata": {},
   "outputs": [
    {
     "name": "stdout",
     "output_type": "stream",
     "text": [
      "success accuracy = 99.29 %\n",
      "fail accuracy = 0.71 %\n"
     ]
    }
   ],
   "source": [
    "print(\"success accuracy = {0:.2f} %\".format(accuracy*100))\n",
    "fail = 1.0 - accuracy\n",
    "print(\"fail accuracy = {0:.2f} %\".format(fail*100))"
   ]
  },
  {
   "cell_type": "markdown",
   "id": "39f7a6f4-e86c-45b6-88a6-f1db390c0ce7",
   "metadata": {},
   "source": [
    "## Random Forest"
   ]
  },
  {
   "cell_type": "code",
   "execution_count": 150,
   "id": "1c7e0f6b-a736-473a-a5f0-e97c0c328dde",
   "metadata": {},
   "outputs": [],
   "source": [
    "# Load the dataset to examine its structure and content\n",
    "file_path = 'network_datum2.csv'\n",
    "data = pd.read_csv(file_path)\n",
    "\n",
    "# Convert IP addresses to numerical format using a simple hash function\n",
    "data['src_ip'] = data['src_ip'].str.replace('.','')\n",
    "data['dst_ip'] = data['dst_ip'].str.replace('.','')\n",
    "data['id'] = data['id'].str.replace('.','')\n",
    "\n",
    "def request_encoder(x):\n",
    "    if x == 'tcp':\n",
    "        return 1\n",
    "    elif x == 'udp':\n",
    "        return 2\n",
    "    elif x == 'icmp':\n",
    "        return 3\n",
    "    elif x == 'http':\n",
    "        return 4\n",
    "    else:\n",
    "        return 0\n",
    "        \n",
    "data['request_type'] = data['request_type'].apply(request_encoder)\n",
    "\n",
    "# Split the data into training and testing sets\n",
    "X = data.drop(['label', 'timestamp'], axis=1)\n",
    "y = data['label']\n",
    "X_train, X_test, y_train, y_test = train_test_split(X, y, test_size=0.2, random_state=42)\n",
    "\n",
    "classifier = RandomForestClassifier(n_estimators=50, criterion=\"entropy\", random_state=0)\n",
    "\n",
    "model = classifier.fit(X_train, y_train)\n",
    "y_pred = model.predict(X_test)\n",
    "accuracy = accuracy_score(y_test, y_pred)\n",
    "classification_rep = classification_report(y_test, y_pred)"
   ]
  },
  {
   "cell_type": "code",
   "execution_count": 151,
   "id": "0b70f934-2bb7-44bb-b4da-6865bd5f2aac",
   "metadata": {},
   "outputs": [
    {
     "name": "stdout",
     "output_type": "stream",
     "text": [
      "success accuracy = 99.91 %\n",
      "fail accuracy = 0.09 %\n"
     ]
    }
   ],
   "source": [
    "print(\"success accuracy = {0:.2f} %\".format(accuracy*100))\n",
    "fail = 1.0 - accuracy\n",
    "print(\"fail accuracy = {0:.2f} %\".format(fail*100))"
   ]
  },
  {
   "cell_type": "code",
   "execution_count": 152,
   "id": "a8bdb662-6eb8-4b8e-8b4b-1cff5f6b0cb6",
   "metadata": {},
   "outputs": [],
   "source": [
    "# classification_report(y_test, y_pred).split('\\n')"
   ]
  },
  {
   "cell_type": "markdown",
   "id": "62f088b5-63ea-4d88-9910-70e21db881d3",
   "metadata": {},
   "source": [
    "## Decision Tree"
   ]
  },
  {
   "cell_type": "code",
   "execution_count": 153,
   "id": "98f7f07b-66fc-447d-a355-a9fe063c330c",
   "metadata": {},
   "outputs": [],
   "source": [
    "classifier = DecisionTreeClassifier(criterion='entropy', random_state=0)"
   ]
  },
  {
   "cell_type": "code",
   "execution_count": 154,
   "id": "6be550b6-9391-4f45-b4ee-35577f91b355",
   "metadata": {},
   "outputs": [],
   "source": [
    "model = classifier.fit(X_train, y_train)\n",
    "y_pred = model.predict(X_test)\n",
    "accuracy = accuracy_score(y_test, y_pred)\n",
    "classification_rep = classification_report(y_test, y_pred)"
   ]
  },
  {
   "cell_type": "code",
   "execution_count": 155,
   "id": "e009f1cb-e89d-473c-bdfa-9310139c38d0",
   "metadata": {},
   "outputs": [
    {
     "name": "stdout",
     "output_type": "stream",
     "text": [
      "success accuracy = 99.89 %\n",
      "fail accuracy = 0.11 %\n"
     ]
    }
   ],
   "source": [
    "print(\"success accuracy = {0:.2f} %\".format(accuracy*100))\n",
    "fail = 1.0 - accuracy\n",
    "print(\"fail accuracy = {0:.2f} %\".format(fail*100))"
   ]
  },
  {
   "cell_type": "markdown",
   "id": "bb1d5ca1-fa76-4fec-8da9-d34e9bff2447",
   "metadata": {},
   "source": [
    "# XGBoost"
   ]
  },
  {
   "cell_type": "code",
   "execution_count": 156,
   "id": "ab72cbfc-27c1-4217-b9b3-9ca6634e1b13",
   "metadata": {},
   "outputs": [],
   "source": [
    "# Re-load and re-process the data from scratch\n",
    "file_path = 'network_datum2.csv'\n",
    "data = pd.read_csv(file_path)\n",
    "\n",
    "# Convert IP addresses to numerical format using a simple hash function\n",
    "data['src_ip'] = data['src_ip'].apply(hash)\n",
    "data['dst_ip'] = data['dst_ip'].apply(hash)\n",
    "data['id'] = data['id'].replace('.','').apply(hash)\n",
    "\n",
    "data.drop(['timestamp'], axis = 1, inplace = True)\n",
    "# Encode the labels\n",
    "label_encoder = LabelEncoder()\n",
    "data['label'] = label_encoder.fit_transform(data['label'])\n",
    "\n",
    "def request_encoder(x):\n",
    "    if x == 'tcp':\n",
    "        return 1\n",
    "    elif x == 'udp':\n",
    "        return 2\n",
    "    elif x == 'icmp':\n",
    "        return 3\n",
    "    elif x == 'http':\n",
    "        return 4\n",
    "    else:\n",
    "        return 0\n",
    "        \n",
    "data['request_type'] = data['request_type'].apply(request_encoder)\n",
    "\n",
    "# Standardize numerical features except for IP addresses which are hashed\n",
    "numerical_features = [col for col in data.columns if col not in ['label', 'src_ip', 'dst_ip']]\n",
    "scaler = StandardScaler()\n",
    "data[numerical_features] = scaler.fit_transform(data[numerical_features])\n",
    "\n",
    "# Splitting the data into features and labels\n",
    "X = data.drop('label', axis=1)\n",
    "y = data['label']\n",
    "\n",
    "# Split the data into training and testing sets\n",
    "X_train, X_test, y_train, y_test = train_test_split(X, y, test_size=0.2, random_state=42)"
   ]
  },
  {
   "cell_type": "code",
   "execution_count": 157,
   "id": "e8b662d1-e163-4ba3-93f4-b1a2b2febafd",
   "metadata": {},
   "outputs": [],
   "source": [
    "# Re-initialize the XGBoost classifier and train again\n",
    "model = XGBClassifier(use_label_encoder=False, eval_metric='logloss')\n",
    "model.fit(X_train, y_train)\n",
    "\n",
    "# Make predictions on the test set\n",
    "y_pred_xgb = model.predict(X_test)\n",
    "\n",
    "# Evaluate the model with the same metrics\n",
    "conf_matrix_xgb = confusion_matrix(y_test, y_pred_xgb)\n",
    "class_report_xgb = classification_report(y_test, y_pred_xgb)\n",
    "accuracy_xgb = accuracy_score(y_test, y_pred_xgb)"
   ]
  },
  {
   "cell_type": "code",
   "execution_count": 158,
   "id": "163aa095-5eae-4e8b-ae02-d3a467e96f4c",
   "metadata": {},
   "outputs": [
    {
     "name": "stdout",
     "output_type": "stream",
     "text": [
      "success accuracy = 99.89 %\n",
      "fail accuracy = 0.11 %\n"
     ]
    }
   ],
   "source": [
    "print(\"success accuracy = {0:.2f} %\".format(accuracy*100))\n",
    "fail = 1.0 - accuracy\n",
    "print(\"fail accuracy = {0:.2f} %\".format(fail*100))"
   ]
  },
  {
   "cell_type": "code",
   "execution_count": 162,
   "id": "172cea1b-327c-4759-8827-9123dd64d342",
   "metadata": {},
   "outputs": [
    {
     "name": "stderr",
     "output_type": "stream",
     "text": [
      "C:\\Users\\User\\anaconda3\\Lib\\site-packages\\sklearn\\linear_model\\_logistic.py:469: ConvergenceWarning: lbfgs failed to converge (status=2):\n",
      "ABNORMAL_TERMINATION_IN_LNSRCH.\n",
      "\n",
      "Increase the number of iterations (max_iter) or scale the data as shown in:\n",
      "    https://scikit-learn.org/stable/modules/preprocessing.html\n",
      "Please also refer to the documentation for alternative solver options:\n",
      "    https://scikit-learn.org/stable/modules/linear_model.html#logistic-regression\n",
      "  n_iter_i = _check_optimize_result(\n"
     ]
    }
   ],
   "source": [
    "data = pd.read_csv('network_datum2.csv')\n",
    "\n",
    "# Convert IP addresses to numerical format by removing dots and converting to integers\n",
    "data['src_ip'] = data['src_ip'].apply(lambda x: int(x.replace('.', '')))\n",
    "data['dst_ip'] = data['dst_ip'].apply(lambda x: int(x.replace('.', '')))\n",
    "data['id'] = data['id'].apply(lambda x: int(x.replace('.', '')))\n",
    "\n",
    "# Encoding request types with integers\n",
    "def request_encoder(x):\n",
    "    if x == 'tcp':\n",
    "        return 1\n",
    "    elif x == 'udp':\n",
    "        return 2\n",
    "    elif x == 'icmp':\n",
    "        return 3\n",
    "    elif x == 'http':\n",
    "        return 4\n",
    "    else:\n",
    "        return 0\n",
    "        \n",
    "data['request_type'] = data['request_type'].apply(request_encoder)\n",
    "\n",
    "# Convert categorical labels to numbers\n",
    "label_encoder = LabelEncoder()\n",
    "data['label'] = label_encoder.fit_transform(data['label'])\n",
    "\n",
    "# Split the data into features and target\n",
    "X = data.drop(['label', 'timestamp'], axis=1)\n",
    "y = data['label']\n",
    "\n",
    "# Split the data into training and testing sets\n",
    "X_train, X_test, y_train, y_test = train_test_split(X, y, test_size=0.2, random_state=42)\n",
    "\n",
    "# Initialize Logistic Regression classifier\n",
    "logistic_classifier = LogisticRegression(max_iter=1000)  # Increased max_iter for convergence\n",
    "\n",
    "# Train the classifier\n",
    "model = logistic_classifier.fit(X_train, y_train)\n",
    "\n",
    "# Predict on the test set\n",
    "y_pred = model.predict(X_test)"
   ]
  },
  {
   "cell_type": "code",
   "execution_count": 163,
   "id": "367f1d08-45b4-4e55-aad4-0d595ef7098e",
   "metadata": {},
   "outputs": [
    {
     "name": "stdout",
     "output_type": "stream",
     "text": [
      "success accuracy = 99.89 %\n",
      "fail accuracy = 0.11 %\n"
     ]
    }
   ],
   "source": [
    "print(\"success accuracy = {0:.2f} %\".format(accuracy*100))\n",
    "fail = 1.0 - accuracy\n",
    "print(\"fail accuracy = {0:.2f} %\".format(fail*100))"
   ]
  },
  {
   "cell_type": "markdown",
   "id": "8d5728be-015f-4f3a-9fff-0e791a05da3d",
   "metadata": {},
   "source": [
    "## Export Model"
   ]
  },
  {
   "cell_type": "code",
   "execution_count": 160,
   "id": "fa5bcb8b-3ce5-4d6a-b225-b7758e7a80d9",
   "metadata": {},
   "outputs": [
    {
     "data": {
      "text/plain": [
       "['rfff.joblib']"
      ]
     },
     "execution_count": 160,
     "metadata": {},
     "output_type": "execute_result"
    }
   ],
   "source": [
    "joblib.dump(model, 'rf.joblib')"
   ]
  },
  {
   "cell_type": "markdown",
   "id": "9808841a-642a-4386-a0f4-b1b05b35fa02",
   "metadata": {},
   "source": [
    "## Test"
   ]
  },
  {
   "cell_type": "code",
   "execution_count": null,
   "id": "57ed03ee-0ed7-499f-9ddf-d3cc818e73e8",
   "metadata": {},
   "outputs": [],
   "source": [
    "df = pd.read_csv('data_for_test.csv')\n",
    "df = df.iloc[[0]]\n",
    "# Convert IP addresses to numerical format using a simple hash function\n",
    "df['src_ip'] = df['src_ip'].apply(hash)\n",
    "df['dst_ip'] = df['dst_ip'].apply(hash)\n",
    "df['id'] = df['id'].apply(hash)\n",
    "# Encode the labels\n",
    "df.drop(['timestamp'], axis = 1, inplace = True)\n",
    "y_pred = model.predict(df.loc[0,:].to_numpy().reshape(1,-1))\n",
    "model.predict(df)[0]"
   ]
  },
  {
   "cell_type": "code",
   "execution_count": null,
   "id": "d89bbe32-951e-4af1-a5ee-86de28b33796",
   "metadata": {},
   "outputs": [],
   "source": []
  },
  {
   "cell_type": "code",
   "execution_count": null,
   "id": "564bc5d9-2625-41a8-8192-b81a99bb9766",
   "metadata": {},
   "outputs": [],
   "source": []
  },
  {
   "cell_type": "code",
   "execution_count": null,
   "id": "2eebf724-9479-422b-97fb-6a7344d14793",
   "metadata": {},
   "outputs": [],
   "source": []
  }
 ],
 "metadata": {
  "kernelspec": {
   "display_name": "Python 3 (ipykernel)",
   "language": "python",
   "name": "python3"
  },
  "language_info": {
   "codemirror_mode": {
    "name": "ipython",
    "version": 3
   },
   "file_extension": ".py",
   "mimetype": "text/x-python",
   "name": "python",
   "nbconvert_exporter": "python",
   "pygments_lexer": "ipython3",
   "version": "3.11.7"
  }
 },
 "nbformat": 4,
 "nbformat_minor": 5
}
