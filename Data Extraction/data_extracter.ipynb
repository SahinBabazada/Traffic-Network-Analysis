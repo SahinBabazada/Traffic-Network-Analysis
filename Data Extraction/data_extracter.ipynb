{
 "cells": [
  {
   "cell_type": "code",
   "execution_count": 10,
   "id": "325de6f8-8ef1-443e-8e0a-d7849676513a",
   "metadata": {},
   "outputs": [],
   "source": []
  },
  {
   "cell_type": "code",
   "execution_count": 14,
   "id": "46366a5f-38e2-4b9c-96f0-949ab9901564",
   "metadata": {},
   "outputs": [],
   "source": [
    "import csv\n",
    "from scapy.all import sniff, IP, TCP, UDP, ICMP, Raw\n",
    "def write_to_csv(data):\n",
    "    with open('network_packets.csv', mode='a', newline='') as file:\n",
    "        writer = csv.writer(file)\n",
    "        writer.writerow(data)\n",
    "def packet_callback(packet):\n",
    "    # Initialize common variables\n",
    "    source_ip = target_ip = source_port = target_port = packet_size = request_mode = packet_length = 'N/A'\n",
    "    packet_summary = \"\"\n",
    "\n",
    "    # Check if the packet has the IP layer\n",
    "    if IP in packet:\n",
    "        source_ip = packet[IP].src\n",
    "        target_ip = packet[IP].dst\n",
    "\n",
    "    # Check for TCP, UDP, and ICMP\n",
    "    if TCP in packet:\n",
    "        source_port = packet[TCP].sport\n",
    "        target_port = packet[TCP].dport\n",
    "        packet_size = len(packet[TCP])\n",
    "        request_mode = 'TCP'\n",
    "        packet_summary = packet.summary()\n",
    "        # Check for HTTP by looking for packets typically on port 80 or 443 and carrying a payload\n",
    "        if packet[TCP].dport in [80, 443] and Raw in packet:\n",
    "            payload = packet[Raw].load.decode(errors='ignore')\n",
    "            if 'HTTP' in payload:\n",
    "                request_mode = 'http'\n",
    "                packet_summary += ' | HTTP Payload: ' + payload[:40]  # Show first 40 characters of payload\n",
    "    elif UDP in packet:\n",
    "        source_port = packet[UDP].sport\n",
    "        target_port = packet[UDP].dport\n",
    "        packet_size = len(packet[UDP])\n",
    "        request_mode = 'udp'\n",
    "        packet_summary = packet.summary()\n",
    "    elif ICMP in packet:\n",
    "        packet_size = len(packet[ICMP])\n",
    "        request_mode = 'icmp'\n",
    "        packet_summary = packet.summary()\n",
    "    else:\n",
    "        packet_summary = packet.summary()\n",
    "    # Packet length might be considered as the entire packet length\n",
    "    packet_length = len(packet)\n",
    "    # Append the data to the CSV\n",
    "    data = [\n",
    "        packet.time, source_ip, target_ip, source_port, target_port,\n",
    "        packet_size, request_mode, packet_length, packet_summary\n",
    "    ]\n",
    "    write_to_csv(data)\n",
    "with open('network_packets.csv', mode='w', newline='') as file:\n",
    "    writer = csv.writer(file)\n",
    "    writer.writerow([\n",
    "        'Timestamp', 'Source IP', 'Target IP', 'Source Port', 'Target Port',\n",
    "        'Packet Size', 'Request Mode', 'Packet Length', 'Packet Summary'\n",
    "    ])\n",
    "# Start sniffing packets\n",
    "sniff(prn=packet_callback, store=False)"
   ]
  },
  {
   "cell_type": "code",
   "execution_count": 15,
   "id": "7ce14e38-a7a2-4b9f-b937-e211a94b4a36",
   "metadata": {},
   "outputs": [],
   "source": []
  },
  {
   "cell_type": "code",
   "execution_count": 16,
   "id": "809fc9e7-47ce-473d-9e6e-6013737d0332",
   "metadata": {},
   "outputs": [
    {
     "data": {
      "text/plain": [
       "<Sniffed: TCP:0 UDP:0 ICMP:0 Other:0>"
      ]
     },
     "execution_count": 16,
     "metadata": {},
     "output_type": "execute_result"
    }
   ],
   "source": []
  },
  {
   "cell_type": "code",
   "execution_count": null,
   "id": "5bb043d8-0d2e-426b-a141-158997720103",
   "metadata": {},
   "outputs": [],
   "source": []
  }
 ],
 "metadata": {
  "kernelspec": {
   "display_name": "Python 3 (ipykernel)",
   "language": "python",
   "name": "python3"
  },
  "language_info": {
   "codemirror_mode": {
    "name": "ipython",
    "version": 3
   },
   "file_extension": ".py",
   "mimetype": "text/x-python",
   "name": "python",
   "nbconvert_exporter": "python",
   "pygments_lexer": "ipython3",
   "version": "3.11.7"
  }
 },
 "nbformat": 4,
 "nbformat_minor": 5
}
